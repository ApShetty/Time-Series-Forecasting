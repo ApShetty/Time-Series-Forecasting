{
 "cells": [
  {
   "cell_type": "markdown",
   "metadata": {},
   "source": [
    "### 2.1 Stochastic Process, Time Series, Stationarity, Autocorrelation"
   ]
  },
  {
   "cell_type": "markdown",
   "metadata": {},
   "source": [
    "1. An observed time series is treated as a **realization** of an underlying probability model.\n",
    "   \n",
    "   In probability and statistics, a realization, observation, or observed value, of a random variable is the value that is actually observed.\n",
    "\n",
    "\n",
    "2. The concept of **(weak) stationarity** is a key requirement of the class of time series models.\n",
    "\n",
    "   The basic idea of stationarity is that **the probability laws** that govern the behavior of **the process do not change over time**. \n",
    "   \n",
    "   **Strict stationarity:** A time series $\\{Z_t\\}$ is said to be strictly stationary if the joint distribution of $Z_{t_1}$, $Z_{t_2}$,..., $Z_{t_n}$ is the same as that of $Z_{t_1-k}$,$Z_{t_2-k}$,...,$Z_{t_n-k}$ for all choices of natural number n, all choices of time points $t_1$, $t_2$,...,$t_n$ and all choices of time lag k.\n",
    "   \n",
    "   **Weak stationarity:** A time series $\\{Z_t\\}$ is said to be weakly (second-order, or covariance) stationary if:\n",
    "   * the mean function $\\mu(t)$ is constant over time, and \n",
    "   * $\\gamma(t,t-k)=\\gamma(0,k)$ for all times t and lags k"
   ]
  },
  {
   "cell_type": "code",
   "execution_count": null,
   "metadata": {
    "collapsed": true
   },
   "outputs": [],
   "source": []
  }
 ],
 "metadata": {
  "kernelspec": {
   "display_name": "Python 3",
   "language": "python",
   "name": "python3"
  },
  "language_info": {
   "codemirror_mode": {
    "name": "ipython",
    "version": 3
   },
   "file_extension": ".py",
   "mimetype": "text/x-python",
   "name": "python",
   "nbconvert_exporter": "python",
   "pygments_lexer": "ipython3",
   "version": "3.6.1"
  }
 },
 "nbformat": 4,
 "nbformat_minor": 2
}
