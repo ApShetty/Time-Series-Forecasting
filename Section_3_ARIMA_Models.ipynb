{
 "cells": [
  {
   "cell_type": "markdown",
   "metadata": {},
   "source": [
    "### 3.1 Evaluation Criterion"
   ]
  },
  {
   "cell_type": "markdown",
   "metadata": {},
   "source": [
    "#### AIC (akaike information criterion)\n",
    "\n",
    "$ AIC = -2ln(L) + 2k$\n",
    "\n",
    "#### BIC (bayesian information criterion)\n",
    "\n",
    "$ BIC = -2ln(L) + ln(n)*k$"
   ]
  },
  {
   "cell_type": "markdown",
   "metadata": {},
   "source": [
    "### 3.2 Mathematical formulation of ARIMA models\n",
    "\n",
    "[AR, MA and ARMA models](http://www.math.unm.edu/~ghuerta/tseries/week4_1.pdf)\n",
    "\n",
    "[The Identification of ARIMA Models](https://www.le.ac.uk/users/dsgp1/COURSES/THIRDMET/MYLECTURES/4XIDNTIFY.pdf)\n",
    "\n",
    "[Interpreting the plots](http://www.dipecodir.it/upload/L072014(1).pdf)"
   ]
  },
  {
   "cell_type": "markdown",
   "metadata": {},
   "source": [
    "### 3.3 Box-Jenkins Approach to Non-Seasonal ARIMA Modeling\n",
    "\n",
    "- Model diagnostic checking\n",
    "- Re-specification of the model if one or more of the underlying statistical assumptions is not satisfied\n",
    "- Model selection\n",
    "- Perform statistical inference and/or forecasting\n",
    "- Forecast evaluation"
   ]
  },
  {
   "cell_type": "code",
   "execution_count": 1,
   "metadata": {
    "collapsed": true
   },
   "outputs": [],
   "source": [
    "%load_ext autoreload\n",
    "%autoreload 2\n",
    "%matplotlib inline\n",
    "%config InlineBackend.figure_format='retina'\n",
    "import warnings; warnings.simplefilter('ignore')\n",
    "\n",
    "from __future__ import absolute_import, division, print_function\n",
    "\n",
    "import sys\n",
    "import os\n",
    "\n",
    "import pandas as pd\n",
    "import numpy as np\n",
    "\n",
    "# TSA from Statsmodels\n",
    "import statsmodels.api as sm\n",
    "import statsmodels.formula.api as smf\n",
    "import statsmodels.tsa.api as smt\n",
    "\n",
    "# Display and Plotting\n",
    "import matplotlib.pylab as plt\n",
    "import seaborn as sns\n",
    "\n",
    "pd.set_option('display.float_format', lambda x: '%.5f' % x) # pandas\n",
    "np.set_printoptions(precision=5, suppress=True) # numpy\n",
    "\n",
    "pd.set_option('display.max_columns', 100)\n",
    "pd.set_option('display.max_rows', 100)\n",
    "\n",
    "# seaborn plotting style\n",
    "sns.set(style='ticks', context='poster')"
   ]
  },
  {
   "cell_type": "code",
   "execution_count": 2,
   "metadata": {
    "collapsed": true
   },
   "outputs": [],
   "source": [
    "# Import the csv file containing the series for the analysis\n",
    "# This is the file we just analyzed in Exercise 2\n",
    "\n",
    "filename_ts = 'data/series1.csv'\n",
    "ts_df = pd.read_csv(filename_ts, index_col=0, parse_dates=[0])\n",
    "\n",
    "n_sample = ts_df.shape[0]"
   ]
  },
  {
   "cell_type": "code",
   "execution_count": 3,
   "metadata": {},
   "outputs": [
    {
     "name": "stdout",
     "output_type": "stream",
     "text": [
      "(120, 1)\n",
      "              value\n",
      "2006-06-01  0.21507\n",
      "2006-07-01  1.14225\n",
      "2006-08-01  0.08077\n",
      "2006-09-01 -0.73952\n",
      "2006-10-01  0.53552\n"
     ]
    }
   ],
   "source": [
    "print(ts_df.shape)\n",
    "print(ts_df.head())"
   ]
  },
  {
   "cell_type": "code",
   "execution_count": null,
   "metadata": {
    "collapsed": true
   },
   "outputs": [],
   "source": []
  }
 ],
 "metadata": {
  "kernelspec": {
   "display_name": "Python 3",
   "language": "python",
   "name": "python3"
  },
  "language_info": {
   "codemirror_mode": {
    "name": "ipython",
    "version": 3
   },
   "file_extension": ".py",
   "mimetype": "text/x-python",
   "name": "python",
   "nbconvert_exporter": "python",
   "pygments_lexer": "ipython3",
   "version": "3.6.1"
  }
 },
 "nbformat": 4,
 "nbformat_minor": 2
}
